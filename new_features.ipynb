{
 "cells": [
  {
   "cell_type": "markdown",
   "metadata": {},
   "source": [
    "# Assitants API with GPT-4 Turbo model\n",
    "\n",
    "We will crate a simple math tutor assistant that is able to solve math equations and create python code to get the answer."
   ]
  },
  {
   "cell_type": "markdown",
   "metadata": {},
   "source": [
    "### 1. Install the OpenAI Python SDK\n",
    "\n",
    "Ensure the OpenAI Python SDK is installed or upgraded:"
   ]
  },
  {
   "cell_type": "code",
   "execution_count": 1,
   "metadata": {},
   "outputs": [
    {
     "name": "stdout",
     "output_type": "stream",
     "text": [
      "Collecting openai\n",
      "  Downloading openai-1.10.0-py3-none-any.whl.metadata (18 kB)\n",
      "Collecting anyio<5,>=3.5.0 (from openai)\n",
      "  Downloading anyio-4.2.0-py3-none-any.whl.metadata (4.6 kB)\n",
      "Collecting distro<2,>=1.7.0 (from openai)\n",
      "  Downloading distro-1.9.0-py3-none-any.whl.metadata (6.8 kB)\n",
      "Collecting httpx<1,>=0.23.0 (from openai)\n",
      "  Downloading httpx-0.26.0-py3-none-any.whl.metadata (7.6 kB)\n",
      "Collecting pydantic<3,>=1.9.0 (from openai)\n",
      "  Downloading pydantic-2.5.3-py3-none-any.whl.metadata (65 kB)\n",
      "\u001b[2K     \u001b[90m━━━━━━━━━━━━━━━━━━━━━━━━━━━━━━━━━━━━━━━\u001b[0m \u001b[32m65.6/65.6 kB\u001b[0m \u001b[31m956.3 kB/s\u001b[0m eta \u001b[36m0:00:00\u001b[0m \u001b[36m0:00:01\u001b[0m\n",
      "\u001b[?25hCollecting sniffio (from openai)\n",
      "  Downloading sniffio-1.3.0-py3-none-any.whl (10 kB)\n",
      "Collecting tqdm>4 (from openai)\n",
      "  Downloading tqdm-4.66.1-py3-none-any.whl.metadata (57 kB)\n",
      "\u001b[2K     \u001b[90m━━━━━━━━━━━━━━━━━━━━━━━━━━━━━━━━━━━━━━━━\u001b[0m \u001b[32m57.6/57.6 kB\u001b[0m \u001b[31m2.0 MB/s\u001b[0m eta \u001b[36m0:00:00\u001b[0m\n",
      "\u001b[?25hRequirement already satisfied: typing-extensions<5,>=4.7 in ./.venv/lib/python3.9/site-packages (from openai) (4.9.0)\n",
      "Collecting idna>=2.8 (from anyio<5,>=3.5.0->openai)\n",
      "  Downloading idna-3.6-py3-none-any.whl.metadata (9.9 kB)\n",
      "Requirement already satisfied: exceptiongroup>=1.0.2 in ./.venv/lib/python3.9/site-packages (from anyio<5,>=3.5.0->openai) (1.2.0)\n",
      "Collecting certifi (from httpx<1,>=0.23.0->openai)\n",
      "  Downloading certifi-2023.11.17-py3-none-any.whl.metadata (2.2 kB)\n",
      "Collecting httpcore==1.* (from httpx<1,>=0.23.0->openai)\n",
      "  Downloading httpcore-1.0.2-py3-none-any.whl.metadata (20 kB)\n",
      "Collecting h11<0.15,>=0.13 (from httpcore==1.*->httpx<1,>=0.23.0->openai)\n",
      "  Downloading h11-0.14.0-py3-none-any.whl (58 kB)\n",
      "\u001b[2K     \u001b[90m━━━━━━━━━━━━━━━━━━━━━━━━━━━━━━━━━━━━━━━━\u001b[0m \u001b[32m58.3/58.3 kB\u001b[0m \u001b[31m3.0 MB/s\u001b[0m eta \u001b[36m0:00:00\u001b[0m\n",
      "\u001b[?25hCollecting annotated-types>=0.4.0 (from pydantic<3,>=1.9.0->openai)\n",
      "  Downloading annotated_types-0.6.0-py3-none-any.whl.metadata (12 kB)\n",
      "Collecting pydantic-core==2.14.6 (from pydantic<3,>=1.9.0->openai)\n",
      "  Downloading pydantic_core-2.14.6-cp39-cp39-macosx_11_0_arm64.whl.metadata (6.5 kB)\n",
      "Downloading openai-1.10.0-py3-none-any.whl (225 kB)\n",
      "\u001b[2K   \u001b[90m━━━━━━━━━━━━━━━━━━━━━━━━━━━━━━━━━━━━━━━━\u001b[0m \u001b[32m225.1/225.1 kB\u001b[0m \u001b[31m2.8 MB/s\u001b[0m eta \u001b[36m0:00:00\u001b[0ma \u001b[36m0:00:01\u001b[0m\n",
      "\u001b[?25hDownloading anyio-4.2.0-py3-none-any.whl (85 kB)\n",
      "\u001b[2K   \u001b[90m━━━━━━━━━━━━━━━━━━━━━━━━━━━━━━━━━━━━━━━━\u001b[0m \u001b[32m85.5/85.5 kB\u001b[0m \u001b[31m6.8 MB/s\u001b[0m eta \u001b[36m0:00:00\u001b[0m\n",
      "\u001b[?25hDownloading distro-1.9.0-py3-none-any.whl (20 kB)\n",
      "Downloading httpx-0.26.0-py3-none-any.whl (75 kB)\n",
      "\u001b[2K   \u001b[90m━━━━━━━━━━━━━━━━━━━━━━━━━━━━━━━━━━━━━━━━\u001b[0m \u001b[32m75.9/75.9 kB\u001b[0m \u001b[31m7.4 MB/s\u001b[0m eta \u001b[36m0:00:00\u001b[0m\n",
      "\u001b[?25hDownloading httpcore-1.0.2-py3-none-any.whl (76 kB)\n",
      "\u001b[2K   \u001b[90m━━━━━━━━━━━━━━━━━━━━━━━━━━━━━━━━━━━━━━━━\u001b[0m \u001b[32m76.9/76.9 kB\u001b[0m \u001b[31m5.5 MB/s\u001b[0m eta \u001b[36m0:00:00\u001b[0m\n",
      "\u001b[?25hDownloading pydantic-2.5.3-py3-none-any.whl (381 kB)\n",
      "\u001b[2K   \u001b[90m━━━━━━━━━━━━━━━━━━━━━━━━━━━━━━━━━━━━━━━━\u001b[0m \u001b[32m381.9/381.9 kB\u001b[0m \u001b[31m5.5 MB/s\u001b[0m eta \u001b[36m0:00:00\u001b[0mta \u001b[36m0:00:01\u001b[0m\n",
      "\u001b[?25hDownloading pydantic_core-2.14.6-cp39-cp39-macosx_11_0_arm64.whl (1.7 MB)\n",
      "\u001b[2K   \u001b[90m━━━━━━━━━━━━━━━━━━━━━━━━━━━━━━━━━━━━━━━━\u001b[0m \u001b[32m1.7/1.7 MB\u001b[0m \u001b[31m9.5 MB/s\u001b[0m eta \u001b[36m0:00:00\u001b[0ma \u001b[36m0:00:01\u001b[0mm\n",
      "\u001b[?25hDownloading tqdm-4.66.1-py3-none-any.whl (78 kB)\n",
      "\u001b[2K   \u001b[90m━━━━━━━━━━━━━━━━━━━━━━━━━━━━━━━━━━━━━━━━\u001b[0m \u001b[32m78.3/78.3 kB\u001b[0m \u001b[31m6.3 MB/s\u001b[0m eta \u001b[36m0:00:00\u001b[0m\n",
      "\u001b[?25hDownloading annotated_types-0.6.0-py3-none-any.whl (12 kB)\n",
      "Downloading idna-3.6-py3-none-any.whl (61 kB)\n",
      "\u001b[2K   \u001b[90m━━━━━━━━━━━━━━━━━━━━━━━━━━━━━━━━━━━━━━━━\u001b[0m \u001b[32m61.6/61.6 kB\u001b[0m \u001b[31m4.8 MB/s\u001b[0m eta \u001b[36m0:00:00\u001b[0m\n",
      "\u001b[?25hDownloading certifi-2023.11.17-py3-none-any.whl (162 kB)\n",
      "\u001b[2K   \u001b[90m━━━━━━━━━━━━━━━━━━━━━━━━━━━━━━━━━━━━━━━━\u001b[0m \u001b[32m162.5/162.5 kB\u001b[0m \u001b[31m11.4 MB/s\u001b[0m eta \u001b[36m0:00:00\u001b[0m\n",
      "\u001b[?25hInstalling collected packages: tqdm, sniffio, pydantic-core, idna, h11, distro, certifi, annotated-types, pydantic, httpcore, anyio, httpx, openai\n",
      "Successfully installed annotated-types-0.6.0 anyio-4.2.0 certifi-2023.11.17 distro-1.9.0 h11-0.14.0 httpcore-1.0.2 httpx-0.26.0 idna-3.6 openai-1.10.0 pydantic-2.5.3 pydantic-core-2.14.6 sniffio-1.3.0 tqdm-4.66.1\n",
      "\n",
      "\u001b[1m[\u001b[0m\u001b[34;49mnotice\u001b[0m\u001b[1;39;49m]\u001b[0m\u001b[39;49m A new release of pip is available: \u001b[0m\u001b[31;49m23.3.1\u001b[0m\u001b[39;49m -> \u001b[0m\u001b[32;49m23.3.2\u001b[0m\n",
      "\u001b[1m[\u001b[0m\u001b[34;49mnotice\u001b[0m\u001b[1;39;49m]\u001b[0m\u001b[39;49m To update, run: \u001b[0m\u001b[32;49mpip install --upgrade pip\u001b[0m\n",
      "Note: you may need to restart the kernel to use updated packages.\n"
     ]
    }
   ],
   "source": [
    "%pip install --upgrade openai"
   ]
  },
  {
   "cell_type": "markdown",
   "metadata": {},
   "source": [
    "### 2. Create a Math Assistant:\n",
    "\n",
    "Use the API to create an assistant with specific instructions tailored for math tutoring. In the instructions, specify that the assistant should provide detailed explanations and, if applicable, Python code snippets for solving math problems."
   ]
  },
  {
   "cell_type": "code",
   "execution_count": 20,
   "metadata": {},
   "outputs": [],
   "source": [
    "import openai\n",
    "import time\n",
    "\n",
    "openai.api_key = \"<your OpenAI API key>\"\n",
    "\n",
    "math_assistant = openai.beta.assistants.create(\n",
    "    name=\"Math Tutor Assistant Turbo\",\n",
    "    instructions=\"Explain math problems step-by-step and provide Python code snippets for solutions when appropriate.\",\n",
    "    model=\"gpt-4-turbo-preview\"  # Example model\n",
    ")\n"
   ]
  },
  {
   "cell_type": "code",
   "execution_count": 21,
   "metadata": {},
   "outputs": [],
   "source": [
    "import time"
   ]
  },
  {
   "cell_type": "markdown",
   "metadata": {},
   "source": [
    "### 3. Using Threads and Runs for Interactions:\n",
    "Create a thread and run for each interaction. In this scenario, the user's math problem or question is sent as a message, and the assistant responds with an explanation and code."
   ]
  },
  {
   "cell_type": "code",
   "execution_count": 22,
   "metadata": {},
   "outputs": [
    {
     "name": "stdout",
     "output_type": "stream",
     "text": [
      "Text(annotations=[], value='To calculate the derivative of the function \\\\(f(x) = x^2 + 3x + 5\\\\), you\\'ll follow the basic rules of differentiation. The derivative gives you how the function changes at any given point. For polynomials like this, you can apply the power rule, which states that if you have a term \\\\(ax^n\\\\), its derivative is \\\\(n \\\\cdot ax^{n-1}\\\\).\\n\\nGiven the function:\\n\\\\[f(x) = x^2 + 3x + 5\\\\]\\n\\nLet\\'s differentiate it term by term:\\n\\n1. **First term (\\\\(x^2\\\\)):** Apply the power rule, where \\\\(a = 1\\\\) and \\\\(n = 2\\\\).\\n   - The derivative of \\\\(x^2\\\\) is \\\\(2 \\\\cdot x^{2-1} = 2x\\\\).\\n2. **Second term (\\\\(3x\\\\)):** Here, \\\\(a = 3\\\\) and \\\\(n = 1\\\\).\\n   - The derivative of \\\\(3x\\\\) is \\\\(1 \\\\cdot 3x^{1-1} = 3\\\\cdot x^0 = 3\\\\). Note that \\\\(x^0 = 1\\\\), so you\\'re just left with the constant \\\\(3\\\\).\\n3. **Third term (\\\\(5\\\\)):** This is a constant term. The derivative of any constant is \\\\(0\\\\), since constants do not change and hence their \"rate of change\" is zero.\\n\\nPutting it all together, the derivative of \\\\(f(x) = x^2 + 3x + 5\\\\) is:\\n\\\\[f\\'(x) = 2x + 3 + 0\\\\]\\n\\\\[f\\'(x) = 2x + 3\\\\]\\n\\nHence, the derivative is \\\\(2x + 3\\\\).\\n\\n### Python Code\\nTo calculate this derivative using Python, you could use the sympy library, which is designed for symbolic mathematics, including differentiation. Here\\'s a small snippet to do just that:\\n\\n```python\\nfrom sympy import symbols, diff\\n\\n# declare the symbol\\nx = symbols(\\'x\\')\\n\\n# define the function\\nf_x = x**2 + 3*x + 5\\n\\n# calculate the derivative\\nf_prime = diff(f_x, x)\\n\\nprint(f_prime)  # This will print the derivative\\n```\\n\\nThis code snippet will print the derivative of the function \\\\(f(x) = x^2 + 3x + 5\\\\), which is \\\\(2x + 3\\\\), same as we calculated manually.')\n"
     ]
    }
   ],
   "source": [
    "# Create a thread for the conversation\n",
    "thread = openai.beta.threads.create()\n",
    "thread_id = thread.id\n",
    "\n",
    "# Function to wait for the execution to complete\n",
    "def wait_on_run(run, thread):\n",
    "    while run.status == \"queued\" or run.status == \"in_progress\":\n",
    "        run = openai.beta.threads.runs.retrieve(\n",
    "            thread_id=thread.id,\n",
    "            run_id=run.id,\n",
    "        )\n",
    "        time.sleep(0.5)\n",
    "    return run\n",
    "\n",
    "# Function to submit a math question and get a response\n",
    "def ask_math_question(question):\n",
    "    # Add the user's question to the thread\n",
    "    openai.beta.threads.messages.create(\n",
    "        thread_id=thread_id,\n",
    "        role=\"user\",\n",
    "        content=question\n",
    "    )\n",
    "\n",
    "    # Run the assistant\n",
    "    run = openai.beta.threads.runs.create(\n",
    "        thread_id=thread_id,\n",
    "        assistant_id=math_assistant.id,\n",
    "    )\n",
    "\n",
    "    # Wait for the response\n",
    "    run = wait_on_run(run, thread)\n",
    "    response = openai.beta.threads.messages.list(thread_id=thread_id, order=\"asc\")\n",
    "    \n",
    "    if response.data:\n",
    "        return response.data[-1].content[0].text\n",
    "    else:\n",
    "        return \"No response received.\"\n",
    "\n",
    "# Example usage\n",
    "response = ask_math_question(\"How do I calculate the derivative of x^2 + 3x + 5?\")\n",
    "print(response)\n"
   ]
  },
  {
   "cell_type": "markdown",
   "metadata": {},
   "source": [
    "### 4. Handling the Response:\n",
    "The ask_math_question function sends a math question to the assistant and waits for a response. The response will include an explanation and, when relevant, a Python code snippet demonstrating the solution.\n",
    "Remember to replace \"YOUR_OPENAI_API_KEY\" with your actual OpenAI API key. The code assumes that the assistant can handle math problems and generate Python code as part of its response. Adjust the model and instructions as necessary for your specific use case."
   ]
  },
  {
   "cell_type": "code",
   "execution_count": 23,
   "metadata": {},
   "outputs": [
    {
     "data": {
      "text/markdown": [
       "To calculate the derivative of the function \\(f(x) = x^2 + 3x + 5\\), you'll follow the basic rules of differentiation. The derivative gives you how the function changes at any given point. For polynomials like this, you can apply the power rule, which states that if you have a term \\(ax^n\\), its derivative is \\(n \\cdot ax^{n-1}\\).\n",
       "\n",
       "Given the function:\n",
       "\\[f(x) = x^2 + 3x + 5\\]\n",
       "\n",
       "Let's differentiate it term by term:\n",
       "\n",
       "1. **First term (\\(x^2\\)):** Apply the power rule, where \\(a = 1\\) and \\(n = 2\\).\n",
       "   - The derivative of \\(x^2\\) is \\(2 \\cdot x^{2-1} = 2x\\).\n",
       "2. **Second term (\\(3x\\)):** Here, \\(a = 3\\) and \\(n = 1\\).\n",
       "   - The derivative of \\(3x\\) is \\(1 \\cdot 3x^{1-1} = 3\\cdot x^0 = 3\\). Note that \\(x^0 = 1\\), so you're just left with the constant \\(3\\).\n",
       "3. **Third term (\\(5\\)):** This is a constant term. The derivative of any constant is \\(0\\), since constants do not change and hence their \"rate of change\" is zero.\n",
       "\n",
       "Putting it all together, the derivative of \\(f(x) = x^2 + 3x + 5\\) is:\n",
       "\\[f'(x) = 2x + 3 + 0\\]\n",
       "\\[f'(x) = 2x + 3\\]\n",
       "\n",
       "Hence, the derivative is \\(2x + 3\\).\n",
       "\n",
       "### Python Code\n",
       "To calculate this derivative using Python, you could use the sympy library, which is designed for symbolic mathematics, including differentiation. Here's a small snippet to do just that:\n",
       "\n",
       "```python\n",
       "from sympy import symbols, diff\n",
       "\n",
       "# declare the symbol\n",
       "x = symbols('x')\n",
       "\n",
       "# define the function\n",
       "f_x = x**2 + 3*x + 5\n",
       "\n",
       "# calculate the derivative\n",
       "f_prime = diff(f_x, x)\n",
       "\n",
       "print(f_prime)  # This will print the derivative\n",
       "```\n",
       "\n",
       "This code snippet will print the derivative of the function \\(f(x) = x^2 + 3x + 5\\), which is \\(2x + 3\\), same as we calculated manually."
      ],
      "text/plain": [
       "<IPython.core.display.Markdown object>"
      ]
     },
     "metadata": {},
     "output_type": "display_data"
    }
   ],
   "source": [
    "from IPython.display import display, Markdown, Latex\n",
    "\n",
    "display(Markdown(response.value))"
   ]
  },
  {
   "cell_type": "markdown",
   "metadata": {},
   "source": [
    "# "
   ]
  },
  {
   "cell_type": "markdown",
   "metadata": {},
   "source": [
    "# Multimodal Capabilities and TTS API "
   ]
  },
  {
   "cell_type": "markdown",
   "metadata": {},
   "source": [
    "We will ask GPT 4 if there is a mouse in the following image:\n",
    "\n",
    "![alternative text](https://cdn.fantasticpestscontrol.com.au/wp-content/uploads/2017/04/house_mouse.jpg)"
   ]
  },
  {
   "cell_type": "markdown",
   "metadata": {},
   "source": [
    "### 1. Open the image\n",
    "We will use the base64 library to create an b64 encoded image object."
   ]
  },
  {
   "cell_type": "code",
   "execution_count": 29,
   "metadata": {},
   "outputs": [],
   "source": [
    "import base64\n",
    "import openai\n",
    "import os\n",
    "\n",
    "# Set OpenAI Key\n",
    "openai.api_key = \"<your OpenAI API key>\"\n",
    "\n",
    "# Updated file path to a JPEG image\n",
    "image_path = \"/Users/<your user>/Documents/mouse_picture.jpeg\"\n",
    "\n",
    "# Read and encode the image in base64\n",
    "with open(image_path, \"rb\") as image_file:\n",
    "    encoded_image = base64.b64encode(image_file.read()).decode(\"utf-8\")"
   ]
  },
  {
   "cell_type": "markdown",
   "metadata": {},
   "source": [
    "### 2. Create the request\n",
    "We create to request for the completion call targeting the gpt-4-vision-preview model."
   ]
  },
  {
   "cell_type": "code",
   "execution_count": 31,
   "metadata": {},
   "outputs": [],
   "source": [
    "# Craft the prompt for GPT\n",
    "prompt_messages = [\n",
    "    {\n",
    "        \"role\": \"user\",\n",
    "        \"content\": [\n",
    "            {\n",
    "                \"type\": \"text\",\n",
    "                \"text\": \"Here is an image, is there a mouse in the image?\"\n",
    "            },\n",
    "            {\n",
    "                \"type\": \"image_url\",\n",
    "                \"image_url\": {\n",
    "                    \"url\": f\"data:image/jpeg;base64,{encoded_image}\"\n",
    "                }\n",
    "            }\n",
    "        ]\n",
    "    }\n",
    "]\n",
    "\n",
    "# Send a request to GPT\n",
    "params = {\n",
    "    \"model\": \"gpt-4-vision-preview\",\n",
    "    \"messages\": prompt_messages,\n",
    "    \"max_tokens\": 4096,\n",
    "}"
   ]
  },
  {
   "cell_type": "markdown",
   "metadata": {},
   "source": [
    "### 3. Execute\n",
    "We execute the call and check the results."
   ]
  },
  {
   "cell_type": "code",
   "execution_count": 32,
   "metadata": {},
   "outputs": [
    {
     "name": "stdout",
     "output_type": "stream",
     "text": [
      "Yes, there is a mouse in the image. It appears to be standing on some leaves or vegetation.\n"
     ]
    }
   ],
   "source": [
    "result = openai.chat.completions.create(**params)\n",
    "print(result.choices[0].message.content)"
   ]
  },
  {
   "cell_type": "code",
   "execution_count": null,
   "metadata": {},
   "outputs": [],
   "source": []
  }
 ],
 "metadata": {
  "kernelspec": {
   "display_name": ".venv",
   "language": "python",
   "name": "python3"
  },
  "language_info": {
   "codemirror_mode": {
    "name": "ipython",
    "version": 3
   },
   "file_extension": ".py",
   "mimetype": "text/x-python",
   "name": "python",
   "nbconvert_exporter": "python",
   "pygments_lexer": "ipython3",
   "version": "3.9.6"
  }
 },
 "nbformat": 4,
 "nbformat_minor": 2
}
